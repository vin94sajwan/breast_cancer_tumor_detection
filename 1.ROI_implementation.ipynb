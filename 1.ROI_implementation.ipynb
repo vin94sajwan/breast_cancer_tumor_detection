{
 "cells": [
  {
   "cell_type": "code",
   "execution_count": 1,
   "id": "5fd8b4ad",
   "metadata": {},
   "outputs": [],
   "source": [
    "import pandas as pd\n",
    "\n",
    "import cv2\n",
    "from PIL import Image\n",
    "import matplotlib.pyplot as plt\n",
    "import tensorflow as tf\n",
    "from tensorflow import keras\n",
    "from sklearn.model_selection import train_test_split\n",
    "from sklearn.metrics import accuracy_score\n",
    "import pandas as pd\n",
    "import numpy as np\n",
    "import matplotlib.pyplot as plt\n",
    "import seaborn as sns\n",
    "import os\n",
    "import pathlib\n",
    "import numpy as np\n",
    "import matplotlib.pyplot as plt\n",
    "from sklearn.model_selection import train_test_split\n",
    "from tensorflow.keras.preprocessing import image\n",
    "from tensorflow.keras.preprocessing.image import ImageDataGenerator, img_to_array, array_to_img, load_img\n",
    "from tensorflow.keras.utils import to_categorical\n",
    "from tensorflow.keras.layers import Conv2D, MaxPool2D, Dense, Flatten, Dropout\n",
    "from tensorflow.keras.models import Sequential\n",
    "\n",
    "import tensorflow as tf\n",
    "import os\n",
    "import numpy as np\n",
    "import tensorflow as tf\n",
    "from tensorflow.keras.applications import InceptionV3\n",
    "from tensorflow.keras.layers import Dense, GlobalAveragePooling2D\n",
    "from tensorflow.keras.models import Model\n",
    "from tensorflow.keras.optimizers import Adam\n",
    "from tensorflow.keras.preprocessing.image import ImageDataGenerator\n",
    "from sklearn.metrics import classification_report,accuracy_score,f1_score,precision_score\n",
    "from tensorflow.keras.applications import VGG16, ResNet50, InceptionV3, MobileNet"
   ]
  },
  {
   "cell_type": "markdown",
   "id": "a199b8bf",
   "metadata": {},
   "source": [
    "## Train and Test Split"
   ]
  },
  {
   "cell_type": "code",
   "execution_count": 2,
   "id": "77fb9e57",
   "metadata": {},
   "outputs": [
    {
     "name": "stdout",
     "output_type": "stream",
     "text": [
      "Found 3566 images belonging to 3 classes.\n",
      "Found 489 images belonging to 3 classes.\n",
      "Found 3566 images belonging to 3 classes.\n",
      "Found 489 images belonging to 3 classes.\n",
      "\n",
      "Count of Images in Each Category in Test Data:\n",
      "cancerous: 166\n",
      "non-cancerous: 163\n",
      "pre-cancerous: 162\n",
      "Training size for each class:\n",
      "cancerous: 1273 samples\n",
      "noncancerous: 1192 samples\n",
      "precancerous: 1101 samples\n"
     ]
    }
   ],
   "source": [
    "# Step 1: Preprocess and load the WSI data\n",
    "train_data_directory = r'D:\\Practicum\\data\\input'  # Directory containing training patches\n",
    "test_data_directory = r'D:\\Practicum\\data\\Validation'    # Directory containing test patches\n",
    "\n",
    "\n",
    "img_height, img_width = 224, 224  # VGG16 and ResNet50 input size\n",
    "img_height_inception, img_width_inception = 299, 299  # InceptionV3 and MobileNet input size\n",
    "batch_size = 32\n",
    "num_classes = 3  # Number of classes: cancerous, precancerous, and non-cancerous\n",
    "\n",
    "epochs = 10\n",
    "\n",
    "# Data augmentation and preprocessing for VGG16 and ResNet50\n",
    "train_datagen = ImageDataGenerator(\n",
    "    rescale=1.0 / 255,\n",
    "    shear_range=0.2,\n",
    "    zoom_range=0.2,\n",
    "    horizontal_flip=True,\n",
    ")\n",
    "\n",
    "test_datagen = ImageDataGenerator(rescale=1.0 / 255)\n",
    "\n",
    "train_generator = train_datagen.flow_from_directory(\n",
    "    train_data_directory,\n",
    "    target_size=(img_height, img_width),\n",
    "    batch_size=batch_size,\n",
    "    class_mode='categorical',\n",
    "    shuffle=True\n",
    ")\n",
    "\n",
    "test_generator = test_datagen.flow_from_directory(\n",
    "    test_data_directory,\n",
    "    target_size=(img_height, img_width),\n",
    "    batch_size=batch_size,\n",
    "    class_mode='categorical',\n",
    "    shuffle=False\n",
    ")\n",
    "\n",
    "# Data augmentation and preprocessing for InceptionV3 and MobileNet\n",
    "train_datagen_inception = ImageDataGenerator(\n",
    "    rescale=1.0 / 255,\n",
    "    shear_range=0.2,\n",
    "    zoom_range=0.2,\n",
    "    horizontal_flip=True,\n",
    ")\n",
    "\n",
    "test_datagen_inception = ImageDataGenerator(rescale=1.0 / 255)\n",
    "\n",
    "train_generator_inception = train_datagen_inception.flow_from_directory(\n",
    "    train_data_directory,\n",
    "    target_size=(img_height_inception, img_width_inception),\n",
    "    batch_size=batch_size,\n",
    "    class_mode='categorical',\n",
    "    shuffle=True\n",
    ")\n",
    "\n",
    "test_generator_inception = test_datagen_inception.flow_from_directory(\n",
    "    test_data_directory,\n",
    "    target_size=(img_height_inception, img_width_inception),\n",
    "    batch_size=batch_size,\n",
    "    class_mode='categorical',\n",
    "    shuffle=False\n",
    ")\n",
    "\n",
    "class_names = list(test_generator.class_indices.keys())\n",
    "\n",
    "# Step 1.5: Check count of images in each category in train data and test data\n",
    "\n",
    "test_data_counts = {}\n",
    "for class_name in class_names:\n",
    "    class_directory = os.path.join(test_data_directory, class_name)\n",
    "    num_images = len(os.listdir(class_directory))\n",
    "    test_data_counts[class_name] = num_images\n",
    "\n",
    "print(\"\\nCount of Images in Each Category in Test Data:\")\n",
    "for class_name, count in test_data_counts.items():\n",
    "  print(f\"{class_name}: {count}\")\n",
    "\n",
    "train_class_counts = train_generator.class_indices\n",
    "print(\"Training size for each class:\")\n",
    "for class_name, class_index in train_class_counts.items():\n",
    "    class_count = sum(train_generator.classes == class_index)\n",
    "    print(f\"{class_name}: {class_count} samples\")"
   ]
  },
  {
   "cell_type": "markdown",
   "id": "54de3cda",
   "metadata": {},
   "source": [
    "## VGG16"
   ]
  },
  {
   "cell_type": "code",
   "execution_count": 3,
   "id": "d30b799b",
   "metadata": {},
   "outputs": [
    {
     "name": "stdout",
     "output_type": "stream",
     "text": [
      "Epoch 1/10\n",
      "  5/111 [>.............................] - ETA: 11:12 - loss: 1.0900 - accuracy: 0.4313"
     ]
    },
    {
     "name": "stderr",
     "output_type": "stream",
     "text": [
      "C:\\Users\\VineetSajwan\\anaconda3\\lib\\site-packages\\PIL\\Image.py:2918: DecompressionBombWarning: Image size (139583899 pixels) exceeds limit of 89478485 pixels, could be decompression bomb DOS attack.\n",
      "  warnings.warn(\n"
     ]
    },
    {
     "name": "stdout",
     "output_type": "stream",
     "text": [
      " 20/111 [====>.........................] - ETA: 11:21 - loss: 0.9991 - accuracy: 0.4812"
     ]
    },
    {
     "name": "stderr",
     "output_type": "stream",
     "text": [
      "C:\\Users\\VineetSajwan\\anaconda3\\lib\\site-packages\\PIL\\Image.py:2918: DecompressionBombWarning: Image size (155055316 pixels) exceeds limit of 89478485 pixels, could be decompression bomb DOS attack.\n",
      "  warnings.warn(\n"
     ]
    },
    {
     "name": "stdout",
     "output_type": "stream",
     "text": [
      " 68/111 [=================>............] - ETA: 5:29 - loss: 0.8823 - accuracy: 0.5726"
     ]
    },
    {
     "name": "stderr",
     "output_type": "stream",
     "text": [
      "C:\\Users\\VineetSajwan\\anaconda3\\lib\\site-packages\\PIL\\Image.py:2918: DecompressionBombWarning: Image size (146571400 pixels) exceeds limit of 89478485 pixels, could be decompression bomb DOS attack.\n",
      "  warnings.warn(\n"
     ]
    },
    {
     "name": "stdout",
     "output_type": "stream",
     "text": [
      " 92/111 [=======================>......] - ETA: 2:26 - loss: 0.8545 - accuracy: 0.5957"
     ]
    },
    {
     "name": "stderr",
     "output_type": "stream",
     "text": [
      "C:\\Users\\VineetSajwan\\anaconda3\\lib\\site-packages\\PIL\\Image.py:2918: DecompressionBombWarning: Image size (173327462 pixels) exceeds limit of 89478485 pixels, could be decompression bomb DOS attack.\n",
      "  warnings.warn(\n"
     ]
    },
    {
     "name": "stdout",
     "output_type": "stream",
     "text": [
      "111/111 [==============================] - 875s 8s/step - loss: 0.8371 - accuracy: 0.6078\n",
      "Epoch 2/10\n",
      "111/111 [==============================] - 870s 8s/step - loss: 0.6669 - accuracy: 0.7128\n",
      "Epoch 3/10\n",
      "111/111 [==============================] - 875s 8s/step - loss: 0.5859 - accuracy: 0.7578\n",
      "Epoch 4/10\n",
      "111/111 [==============================] - 880s 8s/step - loss: 0.5422 - accuracy: 0.7773\n",
      "Epoch 5/10\n",
      "111/111 [==============================] - 891s 8s/step - loss: 0.5061 - accuracy: 0.7917\n",
      "Epoch 6/10\n",
      "111/111 [==============================] - 884s 8s/step - loss: 0.4933 - accuracy: 0.7954\n",
      "Epoch 7/10\n",
      "111/111 [==============================] - 862s 8s/step - loss: 0.4382 - accuracy: 0.8254\n",
      "Epoch 8/10\n",
      "111/111 [==============================] - 1582s 14s/step - loss: 0.4353 - accuracy: 0.8288\n",
      "Epoch 9/10\n",
      "111/111 [==============================] - 890s 8s/step - loss: 0.4261 - accuracy: 0.8251\n",
      "Epoch 10/10\n",
      "111/111 [==============================] - 888s 8s/step - loss: 0.4016 - accuracy: 0.8331\n",
      "16/16 [==============================] - 98s 6s/step - loss: 0.9085 - accuracy: 0.6258\n",
      "VGG16 Test accuracy: 0.63\n",
      "16/16 [==============================] - 35s 2s/step\n",
      "Category-wise Accuracy for VGG16:\n",
      "cancerous: 0.72\n",
      "non-cancerous: 0.70\n",
      "pre-cancerous: 0.46\n",
      "\n",
      "Category-wise F1 Score for VGG16:\n",
      "cancerous: 0.84\n",
      "non-cancerous: 0.82\n",
      "pre-cancerous: 0.63\n",
      "\n",
      "Overall Accuracy for VGG16: 0.6257668711656442\n"
     ]
    },
    {
     "data": {
      "image/png": "[encoded data removed]",
      "text/plain": [
       "<Figure size 576x360 with 1 Axes>"
      ]
     },
     "metadata": {
      "needs_background": "light"
     },
     "output_type": "display_data"
    }
   ],
   "source": [
    "# Step 2: Define the model architecture for each model and compile it\n",
    "\n",
    "# Model 1: VGG16\n",
    "base_model_vgg16 = VGG16(weights='imagenet', include_top=False, input_shape=(img_height, img_width, 3))\n",
    "x = base_model_vgg16.output\n",
    "x = GlobalAveragePooling2D()(x)\n",
    "x = Dense(1024, activation='relu')(x)\n",
    "predictions_vgg16 = Dense(num_classes, activation='softmax')(x)\n",
    "model_vgg16 = Model(inputs=base_model_vgg16.input, outputs=predictions_vgg16)\n",
    "model_vgg16.compile(optimizer=Adam(learning_rate=0.0001), loss='categorical_crossentropy', metrics=['accuracy'])\n",
    "\n",
    "# Step 3: Train the models\n",
    "\n",
    "# Train VGG16 model\n",
    "vgg16_history = model_vgg16.fit(train_generator, steps_per_epoch=train_generator.samples // batch_size, epochs=epochs)\n",
    "\n",
    "\n",
    "# Step 4: Evaluate the models on the test set and compute metrics\n",
    "\n",
    "# Model 1: VGG16\n",
    "loss_vgg16, accuracy_vgg16 = model_vgg16.evaluate(test_generator, steps=None)\n",
    "print(f\"VGG16 Test accuracy: {accuracy_vgg16:.2f}\")\n",
    "\n",
    "\n",
    "# Step 5: Compute category-wise accuracy and F1 score\n",
    "y_true = test_generator.classes\n",
    "\n",
    "\n",
    "y_pred_vgg16 = model_vgg16.predict(test_generator, steps=None).argmax(axis=1)\n",
    "\n",
    "\n",
    "# Compute category-wise accuracy for VGG16\n",
    "accuracy_per_class_vgg16 = {}\n",
    "for i, class_name in enumerate(class_names):\n",
    "    indices = np.where(y_true == i)[0]\n",
    "    accuracy_per_class_vgg16[class_name] = np.mean(y_true[indices] == y_pred_vgg16[indices])\n",
    "\n",
    "print(\"Category-wise Accuracy for VGG16:\")\n",
    "for class_name, acc in accuracy_per_class_vgg16.items():\n",
    "    print(f\"{class_name}: {acc:.2f}\")\n",
    "\n",
    "\n",
    "# Compute category-wise F1 score for VGG16\n",
    "f1_per_class_vgg16 = {}\n",
    "for i, class_name in enumerate(class_names):\n",
    "    indices = np.where(y_true == i)[0]\n",
    "    f1_per_class_vgg16[class_name] = f1_score(y_true[indices], y_pred_vgg16[indices], average='weighted')\n",
    "\n",
    "print(\"\\nCategory-wise F1 Score for VGG16:\")\n",
    "for class_name, f1 in f1_per_class_vgg16.items():\n",
    "    print(f\"{class_name}: {f1:.2f}\")\n",
    "\n",
    "# Step 6: Compute overall accuracy and F1 score\n",
    "\n",
    "# Compute overall accuracy for VGG16\n",
    "overall_accuracy_vgg16 = np.mean(y_true == y_pred_vgg16)\n",
    "print(\"\\nOverall Accuracy for VGG16:\", overall_accuracy_vgg16)\n",
    "\n",
    "# Compute Learning Curve for VGG16\n",
    "pd.DataFrame(vgg16_history.history).plot(figsize=(8, 5))\n",
    "plt.grid(True)\n",
    "plt.gca().set_ylim(0, 1)\n",
    "plt.show()\n",
    "\n"
   ]
  },
  {
   "cell_type": "code",
   "execution_count": 8,
   "id": "3e0c6499",
   "metadata": {},
   "outputs": [
    {
     "name": "stdout",
     "output_type": "stream",
     "text": [
      "Overall F1 Score for VGG16: 0.6212845564421626\n"
     ]
    }
   ],
   "source": [
    "# Compute overall F1 score for VGG16\n",
    "overall_f1_vgg16 = f1_score(y_true, y_pred_vgg16, average='weighted')\n",
    "print(\"Overall F1 Score for VGG16:\", overall_f1_vgg16)"
   ]
  },
  {
   "cell_type": "markdown",
   "id": "aa978091",
   "metadata": {},
   "source": [
    "## Resnet50"
   ]
  },
  {
   "cell_type": "code",
   "execution_count": 4,
   "id": "675f9b9b",
   "metadata": {},
   "outputs": [
    {
     "name": "stdout",
     "output_type": "stream",
     "text": [
      "Epoch 1/10\n",
      " 17/111 [===>..........................] - ETA: 11:56 - loss: 0.8634 - accuracy: 0.6305"
     ]
    },
    {
     "name": "stderr",
     "output_type": "stream",
     "text": [
      "C:\\Users\\VineetSajwan\\anaconda3\\lib\\site-packages\\PIL\\Image.py:2918: DecompressionBombWarning: Image size (139583899 pixels) exceeds limit of 89478485 pixels, could be decompression bomb DOS attack.\n",
      "  warnings.warn(\n"
     ]
    },
    {
     "name": "stdout",
     "output_type": "stream",
     "text": [
      " 78/111 [====================>.........] - ETA: 4:17 - loss: 0.6851 - accuracy: 0.7211"
     ]
    },
    {
     "name": "stderr",
     "output_type": "stream",
     "text": [
      "C:\\Users\\VineetSajwan\\anaconda3\\lib\\site-packages\\PIL\\Image.py:2918: DecompressionBombWarning: Image size (155055316 pixels) exceeds limit of 89478485 pixels, could be decompression bomb DOS attack.\n",
      "  warnings.warn(\n"
     ]
    },
    {
     "name": "stdout",
     "output_type": "stream",
     "text": [
      " 94/111 [========================>.....] - ETA: 2:11 - loss: 0.6536 - accuracy: 0.7334"
     ]
    },
    {
     "name": "stderr",
     "output_type": "stream",
     "text": [
      "C:\\Users\\VineetSajwan\\anaconda3\\lib\\site-packages\\PIL\\Image.py:2918: DecompressionBombWarning: Image size (146571400 pixels) exceeds limit of 89478485 pixels, could be decompression bomb DOS attack.\n",
      "  warnings.warn(\n"
     ]
    },
    {
     "name": "stdout",
     "output_type": "stream",
     "text": [
      "104/111 [===========================>..] - ETA: 54s - loss: 0.6446 - accuracy: 0.7369 "
     ]
    },
    {
     "name": "stderr",
     "output_type": "stream",
     "text": [
      "C:\\Users\\VineetSajwan\\anaconda3\\lib\\site-packages\\PIL\\Image.py:2918: DecompressionBombWarning: Image size (173327462 pixels) exceeds limit of 89478485 pixels, could be decompression bomb DOS attack.\n",
      "  warnings.warn(\n"
     ]
    },
    {
     "name": "stdout",
     "output_type": "stream",
     "text": [
      "111/111 [==============================] - 878s 8s/step - loss: 0.6402 - accuracy: 0.7405\n",
      "Epoch 2/10\n",
      "111/111 [==============================] - 863s 8s/step - loss: 0.4115 - accuracy: 0.8353\n",
      "Epoch 3/10\n",
      "111/111 [==============================] - 3203s 29s/step - loss: 0.3102 - accuracy: 0.8724\n",
      "Epoch 4/10\n",
      "111/111 [==============================] - 870s 8s/step - loss: 0.2767 - accuracy: 0.8928\n",
      "Epoch 5/10\n",
      "111/111 [==============================] - 866s 8s/step - loss: 0.2132 - accuracy: 0.9188\n",
      "Epoch 6/10\n",
      "111/111 [==============================] - 844s 8s/step - loss: 0.1904 - accuracy: 0.9259\n",
      "Epoch 7/10\n",
      "111/111 [==============================] - 851s 8s/step - loss: 0.1382 - accuracy: 0.9488\n",
      "Epoch 8/10\n",
      "111/111 [==============================] - 864s 8s/step - loss: 0.1235 - accuracy: 0.9553\n",
      "Epoch 9/10\n",
      "111/111 [==============================] - 1364s 12s/step - loss: 0.1500 - accuracy: 0.9448\n",
      "Epoch 10/10\n",
      "111/111 [==============================] - 863s 8s/step - loss: 0.1100 - accuracy: 0.9595\n",
      "16/16 [==============================] - 94s 6s/step - loss: 2.0091 - accuracy: 0.5828\n",
      "ResNet50 Test accuracy: 0.58\n",
      "16/16 [==============================] - 36s 2s/step\n",
      "\n",
      "Category-wise Accuracy for ResNet50:\n",
      "cancerous: 0.80\n",
      "non-cancerous: 0.53\n",
      "pre-cancerous: 0.41\n",
      "Overall Accuracy for ResNet50: 0.5828220858895705\n",
      "Overall F1 Score for ResNet50: 0.5730496553823731\n"
     ]
    },
    {
     "data": {
      "image/png": "[encoded data removed]",
      "text/plain": [
       "<Figure size 576x360 with 1 Axes>"
      ]
     },
     "metadata": {
      "needs_background": "light"
     },
     "output_type": "display_data"
    }
   ],
   "source": [
    "# Model 2: ResNet50\n",
    "base_model_resnet50 = ResNet50(weights='imagenet', include_top=False, input_shape=(img_height, img_width, 3))\n",
    "x = base_model_resnet50.output\n",
    "x = GlobalAveragePooling2D()(x)\n",
    "x = Dense(1024, activation='relu')(x)\n",
    "predictions_resnet50 = Dense(num_classes, activation='softmax')(x)\n",
    "model_resnet50 = Model(inputs=base_model_resnet50.input, outputs=predictions_resnet50)\n",
    "model_resnet50.compile(optimizer=Adam(learning_rate=0.0001), loss='categorical_crossentropy', metrics=['accuracy'])\n",
    "\n",
    "# Train ResNet50 model\n",
    "resnet_history = model_resnet50.fit(train_generator, steps_per_epoch=train_generator.samples // batch_size, epochs=epochs)\n",
    "\n",
    "# Model 2: ResNet50\n",
    "loss_resnet50, accuracy_resnet50 = model_resnet50.evaluate(test_generator, steps=None)\n",
    "print(f\"ResNet50 Test accuracy: {accuracy_resnet50:.2f}\")\n",
    "\n",
    "y_pred_resnet50 = model_resnet50.predict(test_generator, steps=None).argmax(axis=1)\n",
    "\n",
    "# Compute category-wise accuracy for ResNet50\n",
    "accuracy_per_class_resnet50 = {}\n",
    "for i, class_name in enumerate(class_names):\n",
    "    indices = np.where(y_true == i)[0]\n",
    "    accuracy_per_class_resnet50[class_name] = np.mean(y_true[indices] == y_pred_resnet50[indices])\n",
    "\n",
    "print(\"\\nCategory-wise Accuracy for ResNet50:\")\n",
    "for class_name, acc in accuracy_per_class_resnet50.items():\n",
    "    print(f\"{class_name}: {acc:.2f}\")\n",
    "\n",
    "# Compute overall accuracy for ResNet50\n",
    "overall_accuracy_resnet50 = np.mean(y_true == y_pred_resnet50)\n",
    "print(\"Overall Accuracy for ResNet50:\", overall_accuracy_resnet50)\n",
    "\n",
    "# Compute overall F1 score for ResNet50\n",
    "overall_f1_resnet50 = f1_score(y_true, y_pred_resnet50, average='weighted')\n",
    "print(\"Overall F1 Score for ResNet50:\", overall_f1_resnet50)\n",
    "\n",
    "# Compute Learning Curve for Resnet50\n",
    "pd.DataFrame(resnet_history.history).plot(figsize=(8, 5))\n",
    "plt.grid(True)\n",
    "plt.gca().set_ylim(0, 1)\n",
    "plt.show()"
   ]
  },
  {
   "cell_type": "code",
   "execution_count": 12,
   "id": "6ea8b3ee",
   "metadata": {},
   "outputs": [
    {
     "name": "stdout",
     "output_type": "stream",
     "text": [
      "\n",
      "Category-wise F1 Score for Resnet50:\n",
      "cancerous: 0.89\n",
      "non-cancerous: 0.70\n",
      "pre-cancerous: 0.58\n"
     ]
    }
   ],
   "source": [
    "# Compute category-wise F1 score for InceptionV3\n",
    "f1_per_class_resnet50 = {}\n",
    "for i, class_name in enumerate(class_names):\n",
    "    indices = np.where(y_true == i)[0]\n",
    "    f1_per_class_resnet50[class_name] = f1_score(y_true[indices], y_pred_resnet50[indices], average='weighted')\n",
    "\n",
    "print(\"\\nCategory-wise F1 Score for Resnet50:\")\n",
    "for class_name, f1 in f1_per_class_resnet50.items():\n",
    "    print(f\"{class_name}: {f1:.2f}\")"
   ]
  },
  {
   "cell_type": "markdown",
   "id": "09822c35",
   "metadata": {},
   "source": [
    "## InceptionV3\n"
   ]
  },
  {
   "cell_type": "code",
   "execution_count": 5,
   "id": "54d00c5a",
   "metadata": {},
   "outputs": [
    {
     "name": "stdout",
     "output_type": "stream",
     "text": [
      "Epoch 1/10\n",
      "  7/111 [>.............................] - ETA: 12:33 - loss: 0.9817 - accuracy: 0.4821"
     ]
    },
    {
     "name": "stderr",
     "output_type": "stream",
     "text": [
      "C:\\Users\\VineetSajwan\\anaconda3\\lib\\site-packages\\PIL\\Image.py:2918: DecompressionBombWarning: Image size (146571400 pixels) exceeds limit of 89478485 pixels, could be decompression bomb DOS attack.\n",
      "  warnings.warn(\n"
     ]
    },
    {
     "name": "stdout",
     "output_type": "stream",
     "text": [
      " 19/111 [====>.........................] - ETA: 11:58 - loss: 0.8524 - accuracy: 0.6034"
     ]
    },
    {
     "name": "stderr",
     "output_type": "stream",
     "text": [
      "C:\\Users\\VineetSajwan\\anaconda3\\lib\\site-packages\\PIL\\Image.py:2918: DecompressionBombWarning: Image size (139583899 pixels) exceeds limit of 89478485 pixels, could be decompression bomb DOS attack.\n",
      "  warnings.warn(\n"
     ]
    },
    {
     "name": "stdout",
     "output_type": "stream",
     "text": [
      " 57/111 [==============>...............] - ETA: 7:03 - loss: 0.6966 - accuracy: 0.7010"
     ]
    },
    {
     "name": "stderr",
     "output_type": "stream",
     "text": [
      "C:\\Users\\VineetSajwan\\anaconda3\\lib\\site-packages\\PIL\\Image.py:2918: DecompressionBombWarning: Image size (173327462 pixels) exceeds limit of 89478485 pixels, could be decompression bomb DOS attack.\n",
      "  warnings.warn(\n"
     ]
    },
    {
     "name": "stdout",
     "output_type": "stream",
     "text": [
      " 76/111 [===================>..........] - ETA: 4:39 - loss: 0.6635 - accuracy: 0.7187"
     ]
    },
    {
     "name": "stderr",
     "output_type": "stream",
     "text": [
      "C:\\Users\\VineetSajwan\\anaconda3\\lib\\site-packages\\PIL\\Image.py:2918: DecompressionBombWarning: Image size (155055316 pixels) exceeds limit of 89478485 pixels, could be decompression bomb DOS attack.\n",
      "  warnings.warn(\n"
     ]
    },
    {
     "name": "stdout",
     "output_type": "stream",
     "text": [
      "111/111 [==============================] - 896s 8s/step - loss: 0.6120 - accuracy: 0.7422\n",
      "Epoch 2/10\n",
      "111/111 [==============================] - 898s 8s/step - loss: 0.3855 - accuracy: 0.8424\n",
      "Epoch 3/10\n",
      "111/111 [==============================] - 894s 8s/step - loss: 0.2797 - accuracy: 0.8945\n",
      "Epoch 4/10\n",
      "111/111 [==============================] - 926s 8s/step - loss: 0.2382 - accuracy: 0.9035\n",
      "Epoch 5/10\n",
      "111/111 [==============================] - 924s 8s/step - loss: 0.1656 - accuracy: 0.9420\n",
      "Epoch 6/10\n",
      "111/111 [==============================] - 908s 8s/step - loss: 0.1478 - accuracy: 0.9448\n",
      "Epoch 7/10\n",
      "111/111 [==============================] - 929s 8s/step - loss: 0.1300 - accuracy: 0.9533\n",
      "Epoch 8/10\n",
      "111/111 [==============================] - 949s 9s/step - loss: 0.1007 - accuracy: 0.9612\n",
      "Epoch 9/10\n",
      "111/111 [==============================] - 964s 9s/step - loss: 0.0974 - accuracy: 0.9621\n",
      "Epoch 10/10\n",
      "111/111 [==============================] - 976s 9s/step - loss: 0.0888 - accuracy: 0.9660\n",
      "16/16 [==============================] - 102s 6s/step - loss: 1.6277 - accuracy: 0.6830\n",
      "InceptionV3 Test accuracy: 0.68\n",
      "16/16 [==============================] - 36s 2s/step\n"
     ]
    },
    {
     "ename": "NameError",
     "evalue": "name 'y_pred_inceptionv3' is not defined",
     "output_type": "error",
     "traceback": [
      "\u001b[1;31m---------------------------------------------------------------------------\u001b[0m",
      "\u001b[1;31mNameError\u001b[0m                                 Traceback (most recent call last)",
      "\u001b[1;32mC:\\Users\\VINEET~1\\AppData\\Local\\Temp/ipykernel_24156/830187943.py\u001b[0m in \u001b[0;36m<module>\u001b[1;34m\u001b[0m\n\u001b[0;32m     21\u001b[0m \u001b[1;32mfor\u001b[0m \u001b[0mi\u001b[0m\u001b[1;33m,\u001b[0m \u001b[0mclass_name\u001b[0m \u001b[1;32min\u001b[0m \u001b[0menumerate\u001b[0m\u001b[1;33m(\u001b[0m\u001b[0mclass_names\u001b[0m\u001b[1;33m)\u001b[0m\u001b[1;33m:\u001b[0m\u001b[1;33m\u001b[0m\u001b[1;33m\u001b[0m\u001b[0m\n\u001b[0;32m     22\u001b[0m     \u001b[0mindices\u001b[0m \u001b[1;33m=\u001b[0m \u001b[0mnp\u001b[0m\u001b[1;33m.\u001b[0m\u001b[0mwhere\u001b[0m\u001b[1;33m(\u001b[0m\u001b[0my_true\u001b[0m \u001b[1;33m==\u001b[0m \u001b[0mi\u001b[0m\u001b[1;33m)\u001b[0m\u001b[1;33m[\u001b[0m\u001b[1;36m0\u001b[0m\u001b[1;33m]\u001b[0m\u001b[1;33m\u001b[0m\u001b[1;33m\u001b[0m\u001b[0m\n\u001b[1;32m---> 23\u001b[1;33m     \u001b[0maccuracy_per_class_inceptionv3\u001b[0m\u001b[1;33m[\u001b[0m\u001b[0mclass_name\u001b[0m\u001b[1;33m]\u001b[0m \u001b[1;33m=\u001b[0m \u001b[0mnp\u001b[0m\u001b[1;33m.\u001b[0m\u001b[0mmean\u001b[0m\u001b[1;33m(\u001b[0m\u001b[0my_true\u001b[0m\u001b[1;33m[\u001b[0m\u001b[0mindices\u001b[0m\u001b[1;33m]\u001b[0m \u001b[1;33m==\u001b[0m \u001b[0my_pred_inceptionv3\u001b[0m\u001b[1;33m[\u001b[0m\u001b[0mindices\u001b[0m\u001b[1;33m]\u001b[0m\u001b[1;33m)\u001b[0m\u001b[1;33m\u001b[0m\u001b[1;33m\u001b[0m\u001b[0m\n\u001b[0m\u001b[0;32m     24\u001b[0m \u001b[1;33m\u001b[0m\u001b[0m\n\u001b[0;32m     25\u001b[0m \u001b[0mprint\u001b[0m\u001b[1;33m(\u001b[0m\u001b[1;34m\"\\nCategory-wise Accuracy for InceptionV3:\"\u001b[0m\u001b[1;33m)\u001b[0m\u001b[1;33m\u001b[0m\u001b[1;33m\u001b[0m\u001b[0m\n",
      "\u001b[1;31mNameError\u001b[0m: name 'y_pred_inceptionv3' is not defined"
     ]
    }
   ],
   "source": [
    "# Model 3: InceptionV3\n",
    "base_model_inceptionv3 = InceptionV3(weights='imagenet', include_top=False, input_shape=(img_height_inception, img_width_inception, 3))\n",
    "x = base_model_inceptionv3.output\n",
    "x = GlobalAveragePooling2D()(x)\n",
    "x = Dense(1024, activation='relu')(x)\n",
    "predictions_inceptionv3 = Dense(num_classes, activation='softmax')(x)\n",
    "model_inceptionv3 = Model(inputs=base_model_inceptionv3.input, outputs=predictions_inceptionv3)\n",
    "model_inceptionv3.compile(optimizer=Adam(learning_rate=0.0001), loss='categorical_crossentropy', metrics=['accuracy'])\n",
    "\n",
    "# Train InceptionV3 model\n",
    "inceptionv3_history = model_inceptionv3.fit(train_generator_inception, steps_per_epoch=train_generator_inception.samples // batch_size, epochs=epochs)\n",
    "\n",
    "# Model 3: InceptionV3\n",
    "loss_inceptionv3, accuracy_inceptionv3 = model_inceptionv3.evaluate(test_generator_inception, steps=None)\n",
    "print(f\"InceptionV3 Test accuracy: {accuracy_inceptionv3:.2f}\")\n",
    "\n"
   ]
  },
  {
   "cell_type": "code",
   "execution_count": 6,
   "id": "3ff7d0d1",
   "metadata": {},
   "outputs": [
    {
     "name": "stdout",
     "output_type": "stream",
     "text": [
      "16/16 [==============================] - 39s 2s/step\n",
      "\n",
      "Category-wise Accuracy for InceptionV3:\n",
      "cancerous: 0.69\n",
      "non-cancerous: 0.46\n",
      "pre-cancerous: 0.73\n",
      "\n",
      "Category-wise F1 Score for InceptionV3:\n",
      "cancerous: 0.81\n",
      "non-cancerous: 0.63\n",
      "pre-cancerous: 0.84\n",
      "Overall Accuracy for InceptionV3: 0.6257668711656442\n",
      "Overall F1 Score for InceptionV3: 0.6209885397634034\n"
     ]
    },
    {
     "data": {
      "image/png": "[encoded data removed]",
      "text/plain": [
       "<Figure size 576x360 with 1 Axes>"
      ]
     },
     "metadata": {
      "needs_background": "light"
     },
     "output_type": "display_data"
    }
   ],
   "source": [
    "y_pred_inceptionv3 = model_inceptionv3.predict(test_generator, steps=None).argmax(axis=1)\n",
    "\n",
    "# Compute category-wise accuracy for InceptionV3\n",
    "accuracy_per_class_inceptionv3 = {}\n",
    "for i, class_name in enumerate(class_names):\n",
    "    indices = np.where(y_true == i)[0]\n",
    "    accuracy_per_class_inceptionv3[class_name] = np.mean(y_true[indices] == y_pred_inceptionv3[indices])\n",
    "\n",
    "print(\"\\nCategory-wise Accuracy for InceptionV3:\")\n",
    "for class_name, acc in accuracy_per_class_inceptionv3.items():\n",
    "    print(f\"{class_name}: {acc:.2f}\")\n",
    "\n",
    "# Compute category-wise F1 score for InceptionV3\n",
    "f1_per_class_inceptionv3 = {}\n",
    "for i, class_name in enumerate(class_names):\n",
    "    indices = np.where(y_true == i)[0]\n",
    "    f1_per_class_inceptionv3[class_name] = f1_score(y_true[indices], y_pred_inceptionv3[indices], average='weighted')\n",
    "\n",
    "print(\"\\nCategory-wise F1 Score for InceptionV3:\")\n",
    "for class_name, f1 in f1_per_class_inceptionv3.items():\n",
    "    print(f\"{class_name}: {f1:.2f}\")\n",
    "\n",
    "# Compute overall accuracy for InceptionV3\n",
    "overall_accuracy_inceptionv3 = np.mean(y_true == y_pred_inceptionv3)\n",
    "print(\"Overall Accuracy for InceptionV3:\", overall_accuracy_inceptionv3)\n",
    "\n",
    "# Compute overall F1 score for InceptionV3\n",
    "overall_f1_inceptionv3 = f1_score(y_true, y_pred_inceptionv3, average='weighted')\n",
    "print(\"Overall F1 Score for InceptionV3:\", overall_f1_inceptionv3)\n",
    "\n",
    "# Compute Learning Curve for InceptionV3\n",
    "pd.DataFrame(inceptionv3_history.history).plot(figsize=(8, 5))\n",
    "plt.grid(True)\n",
    "plt.gca().set_ylim(0, 1)\n",
    "plt.show()"
   ]
  },
  {
   "cell_type": "markdown",
   "id": "c2c9f94d",
   "metadata": {},
   "source": [
    "## Mobinet"
   ]
  },
  {
   "cell_type": "code",
   "execution_count": 7,
   "id": "a35a4bdf",
   "metadata": {},
   "outputs": [
    {
     "name": "stdout",
     "output_type": "stream",
     "text": [
      "WARNING:tensorflow:`input_shape` is undefined or non-square, or `rows` is not in [128, 160, 192, 224]. Weights for input shape (224, 224) will be loaded as the default.\n",
      "Epoch 1/10\n",
      " 40/111 [=========>....................] - ETA: 9:49 - loss: 0.7764 - accuracy: 0.6531 "
     ]
    },
    {
     "name": "stderr",
     "output_type": "stream",
     "text": [
      "C:\\Users\\VineetSajwan\\anaconda3\\lib\\site-packages\\PIL\\Image.py:2918: DecompressionBombWarning: Image size (173327462 pixels) exceeds limit of 89478485 pixels, could be decompression bomb DOS attack.\n",
      "  warnings.warn(\n"
     ]
    },
    {
     "name": "stdout",
     "output_type": "stream",
     "text": [
      " 61/111 [===============>..............] - ETA: 6:55 - loss: 0.6999 - accuracy: 0.6939"
     ]
    },
    {
     "name": "stderr",
     "output_type": "stream",
     "text": [
      "C:\\Users\\VineetSajwan\\anaconda3\\lib\\site-packages\\PIL\\Image.py:2918: DecompressionBombWarning: Image size (146571400 pixels) exceeds limit of 89478485 pixels, could be decompression bomb DOS attack.\n",
      "  warnings.warn(\n"
     ]
    },
    {
     "name": "stdout",
     "output_type": "stream",
     "text": [
      " 69/111 [=================>............] - ETA: 5:48 - loss: 0.6943 - accuracy: 0.7041"
     ]
    },
    {
     "name": "stderr",
     "output_type": "stream",
     "text": [
      "C:\\Users\\VineetSajwan\\anaconda3\\lib\\site-packages\\PIL\\Image.py:2918: DecompressionBombWarning: Image size (155055316 pixels) exceeds limit of 89478485 pixels, could be decompression bomb DOS attack.\n",
      "  warnings.warn(\n"
     ]
    },
    {
     "name": "stdout",
     "output_type": "stream",
     "text": [
      " 89/111 [=======================>......] - ETA: 5:07 - loss: 0.6652 - accuracy: 0.7201"
     ]
    },
    {
     "name": "stderr",
     "output_type": "stream",
     "text": [
      "C:\\Users\\VineetSajwan\\anaconda3\\lib\\site-packages\\PIL\\Image.py:2918: DecompressionBombWarning: Image size (139583899 pixels) exceeds limit of 89478485 pixels, could be decompression bomb DOS attack.\n",
      "  warnings.warn(\n"
     ]
    },
    {
     "name": "stdout",
     "output_type": "stream",
     "text": [
      "111/111 [==============================] - 1431s 13s/step - loss: 0.6510 - accuracy: 0.7230\n",
      "Epoch 2/10\n",
      "111/111 [==============================] - 900s 8s/step - loss: 0.4226 - accuracy: 0.8316\n",
      "Epoch 3/10\n",
      "111/111 [==============================] - 891s 8s/step - loss: 0.3175 - accuracy: 0.8718\n",
      "Epoch 4/10\n",
      "111/111 [==============================] - 890s 8s/step - loss: 0.2657 - accuracy: 0.8959\n",
      "Epoch 5/10\n",
      "111/111 [==============================] - 899s 8s/step - loss: 0.2352 - accuracy: 0.9086\n",
      "Epoch 6/10\n",
      "111/111 [==============================] - 896s 8s/step - loss: 0.1788 - accuracy: 0.9338\n",
      "Epoch 7/10\n",
      "111/111 [==============================] - 897s 8s/step - loss: 0.1491 - accuracy: 0.9440\n",
      "Epoch 8/10\n",
      "111/111 [==============================] - 898s 8s/step - loss: 0.1283 - accuracy: 0.9539\n",
      "Epoch 9/10\n",
      "111/111 [==============================] - 885s 8s/step - loss: 0.0962 - accuracy: 0.9641\n",
      "Epoch 10/10\n",
      "111/111 [==============================] - 894s 8s/step - loss: 0.0826 - accuracy: 0.9717\n",
      "16/16 [==============================] - 93s 6s/step - loss: 1.6725 - accuracy: 0.6258\n",
      "MobileNet Test accuracy: 0.63\n",
      "16/16 [==============================] - 43s 2s/step\n",
      "\n",
      "Category-wise Accuracy for MobileNet:\n",
      "cancerous: 0.72\n",
      "non-cancerous: 0.35\n",
      "pre-cancerous: 0.80\n",
      "\n",
      "Category-wise F1 Score for MobileNet:\n",
      "cancerous: 0.84\n",
      "non-cancerous: 0.52\n",
      "pre-cancerous: 0.89\n",
      "Overall Accuracy for MobileNet: 0.6257668711656442\n",
      "Overall F1 Score for MobileNet: 0.6121255120983169\n"
     ]
    },
    {
     "data": {
      "image/png": "[encoded data removed]",
      "text/plain": [
       "<Figure size 576x360 with 1 Axes>"
      ]
     },
     "metadata": {
      "needs_background": "light"
     },
     "output_type": "display_data"
    }
   ],
   "source": [
    "# Model 4: MobileNet\n",
    "base_model_mobilenet = MobileNet(weights='imagenet', include_top=False, input_shape=(img_height_inception, img_width_inception, 3))\n",
    "x = base_model_mobilenet.output\n",
    "x = GlobalAveragePooling2D()(x)\n",
    "x = Dense(1024, activation='relu')(x)\n",
    "predictions_mobilenet = Dense(num_classes, activation='softmax')(x)\n",
    "model_mobilenet = Model(inputs=base_model_mobilenet.input, outputs=predictions_mobilenet)\n",
    "model_mobilenet.compile(optimizer=Adam(learning_rate=0.0001), loss='categorical_crossentropy', metrics=['accuracy'])\n",
    "\n",
    "# Train MobileNet model\n",
    "mobinet_history = model_mobilenet.fit(train_generator_inception, steps_per_epoch=train_generator_inception.samples // batch_size, epochs=epochs)\n",
    "\n",
    "# Model 4: MobileNet\n",
    "loss_mobilenet, accuracy_mobilenet = model_mobilenet.evaluate(test_generator_inception, steps=None)\n",
    "print(f\"MobileNet Test accuracy: {accuracy_mobilenet:.2f}\")\n",
    "\n",
    "y_pred_mobilenet = model_mobilenet.predict(test_generator_inception, steps=None).argmax(axis=1)\n",
    "\n",
    "\n",
    "# Compute category-wise accuracy for MobileNet\n",
    "accuracy_per_class_mobilenet = {}\n",
    "for i, class_name in enumerate(class_names):\n",
    "    indices = np.where(y_true == i)[0]\n",
    "    accuracy_per_class_mobilenet[class_name] = np.mean(y_true[indices] == y_pred_mobilenet[indices])\n",
    "\n",
    "print(\"\\nCategory-wise Accuracy for MobileNet:\")\n",
    "for class_name, acc in accuracy_per_class_mobilenet.items():\n",
    "    print(f\"{class_name}: {acc:.2f}\")\n",
    "\n",
    "    \n",
    "\n",
    "# Compute category-wise F1 score for MobileNet\n",
    "f1_per_class_mobilenet = {}\n",
    "for i, class_name in enumerate(class_names):\n",
    "    indices = np.where(y_true == i)[0]\n",
    "    f1_per_class_mobilenet[class_name] = f1_score(y_true[indices], y_pred_mobilenet[indices], average='weighted')\n",
    "\n",
    "print(\"\\nCategory-wise F1 Score for MobileNet:\")\n",
    "for class_name, f1 in f1_per_class_mobilenet.items():\n",
    "    print(f\"{class_name}: {f1:.2f}\")\n",
    "\n",
    "    \n",
    "\n",
    "# Compute overall accuracy for MobileNet\n",
    "overall_accuracy_mobilenet = np.mean(y_true == y_pred_mobilenet)\n",
    "print(\"Overall Accuracy for MobileNet:\", overall_accuracy_mobilenet)\n",
    "\n",
    "\n",
    "# Compute overall F1 score for MobileNet\n",
    "overall_f1_mobilenet = f1_score(y_true, y_pred_mobilenet, average='weighted')\n",
    "print(\"Overall F1 Score for MobileNet:\", overall_f1_mobilenet)\n",
    "\n",
    "# Compute Learning Curve for Mobinet\n",
    "pd.DataFrame(mobinet_history.history).plot(figsize=(8, 5))\n",
    "plt.grid(True)\n",
    "plt.gca().set_ylim(0, 1)\n",
    "plt.show()"
   ]
  },
  {
   "cell_type": "markdown",
   "id": "9b1575be",
   "metadata": {},
   "source": [
    "## F1 Score Across Models "
   ]
  },
  {
   "cell_type": "code",
   "execution_count": 13,
   "id": "ad06ec04",
   "metadata": {},
   "outputs": [],
   "source": [
    "import matplotlib.pyplot as plt\n",
    "import seaborn as sns\n",
    "import pandas as pd\n",
    "\n",
    "\n",
    "# Sample data of f1_scores_dict\n",
    "f1_scores_dict = {\n",
    " 'VGG16': f1_per_class_vgg16,\n",
    " 'Resnet50': f1_per_class_resnet50,\n",
    " 'InceptionV3': f1_per_class_inceptionv3,\n",
    " 'Mobinet': f1_per_class_mobilenet\n",
    "}\n",
    "\n",
    "# Convert f1_scores_dict into a DataFrame\n",
    "df_f1_scores = pd.DataFrame(f1_scores_dict)\n",
    "\n",
    "# Set the class names as the index for better visualization\n",
    "df_f1_scores.index.name = 'Classes'\n",
    "\n",
    "# Transpose the DataFrame for easier plotting\n",
    "df_f1_scores = df_f1_scores.T"
   ]
  },
  {
   "cell_type": "code",
   "execution_count": 14,
   "id": "a6f4b647",
   "metadata": {},
   "outputs": [
    {
     "data": {
      "text/plain": [
       "<Figure size 864x432 with 0 Axes>"
      ]
     },
     "metadata": {},
     "output_type": "display_data"
    },
    {
     "data": {
      "image/png": "[encoded data removed]",
      "text/plain": [
       "<Figure size 432x288 with 1 Axes>"
      ]
     },
     "metadata": {
      "needs_background": "light"
     },
     "output_type": "display_data"
    }
   ],
   "source": [
    "colors = ['#add8e6', '#90ee90', '#ffa07a', '#dda0dd']\n",
    "\n",
    "# Create a bar plot with the professional color scheme\n",
    "plt.figure(figsize=(12, 6))\n",
    "ax = df_f1_scores.plot(kind='bar', width=0.6, color=colors)\n",
    "ax.set_xlabel('Architectures')\n",
    "ax.set_ylabel('F1 Score')\n",
    "#ax.set_title('Class-wise F1 Scores of Different Models')\n",
    "plt.xticks(rotation=0, ha='center')\n",
    "plt.legend(title='Classes', bbox_to_anchor=(1.0, 1.0))\n",
    "plt.tight_layout()\n",
    "plt.show()"
   ]
  },
  {
   "cell_type": "code",
   "execution_count": 15,
   "id": "67ef4407",
   "metadata": {},
   "outputs": [
    {
     "data": {
      "text/html": [
       "<div>\n",
       "<style scoped>\n",
       "    .dataframe tbody tr th:only-of-type {\n",
       "        vertical-align: middle;\n",
       "    }\n",
       "\n",
       "    .dataframe tbody tr th {\n",
       "        vertical-align: top;\n",
       "    }\n",
       "\n",
       "    .dataframe thead th {\n",
       "        text-align: right;\n",
       "    }\n",
       "</style>\n",
       "<table border=\"1\" class=\"dataframe\">\n",
       "  <thead>\n",
       "    <tr style=\"text-align: right;\">\n",
       "      <th>Classes</th>\n",
       "      <th>cancerous</th>\n",
       "      <th>non-cancerous</th>\n",
       "      <th>pre-cancerous</th>\n",
       "    </tr>\n",
       "  </thead>\n",
       "  <tbody>\n",
       "    <tr>\n",
       "      <th>VGG16</th>\n",
       "      <td>0.835088</td>\n",
       "      <td>0.820513</td>\n",
       "      <td>0.632911</td>\n",
       "    </tr>\n",
       "    <tr>\n",
       "      <th>Resnet50</th>\n",
       "      <td>0.889632</td>\n",
       "      <td>0.696356</td>\n",
       "      <td>0.578947</td>\n",
       "    </tr>\n",
       "    <tr>\n",
       "      <th>InceptionV3</th>\n",
       "      <td>0.814286</td>\n",
       "      <td>0.629787</td>\n",
       "      <td>0.842857</td>\n",
       "    </tr>\n",
       "    <tr>\n",
       "      <th>Mobinet</th>\n",
       "      <td>0.835088</td>\n",
       "      <td>0.522936</td>\n",
       "      <td>0.890411</td>\n",
       "    </tr>\n",
       "  </tbody>\n",
       "</table>\n",
       "</div>"
      ],
      "text/plain": [
       "Classes      cancerous  non-cancerous  pre-cancerous\n",
       "VGG16         0.835088       0.820513       0.632911\n",
       "Resnet50      0.889632       0.696356       0.578947\n",
       "InceptionV3   0.814286       0.629787       0.842857\n",
       "Mobinet       0.835088       0.522936       0.890411"
      ]
     },
     "execution_count": 15,
     "metadata": {},
     "output_type": "execute_result"
    }
   ],
   "source": [
    "df_f1_scores\n"
   ]
  },
  {
   "cell_type": "code",
   "execution_count": 16,
   "id": "d5ff2efc",
   "metadata": {},
   "outputs": [
    {
     "data": {
      "text/plain": [
       "<Figure size 864x432 with 0 Axes>"
      ]
     },
     "metadata": {},
     "output_type": "display_data"
    },
    {
     "data": {
      "image/png": "[encoded data removed]",
      "text/plain": [
       "<Figure size 432x288 with 1 Axes>"
      ]
     },
     "metadata": {
      "needs_background": "light"
     },
     "output_type": "display_data"
    }
   ],
   "source": [
    "import matplotlib.pyplot as plt\n",
    "import seaborn as sns\n",
    "import pandas as pd\n",
    "\n",
    "# Sample data of f1_scores_dict\n",
    "f1_scores_dict = {\n",
    " 'VGG16': f1_per_class_vgg16,\n",
    " 'Resnet50': f1_per_class_resnet50,\n",
    " 'InceptionV3': f1_per_class_inceptionv3,\n",
    " 'Mobinet': f1_per_class_mobilenet\n",
    "}\n",
    "\n",
    "# Convert f1_scores_dict into a DataFrame\n",
    "df_f1_scores = pd.DataFrame(f1_scores_dict)\n",
    "\n",
    "# Set the class names as the index for better visualization\n",
    "df_f1_scores.index.name = 'Classes'\n",
    "\n",
    "# Transpose the DataFrame for easier plotting\n",
    "df_f1_scores = df_f1_scores.T\n",
    "\n",
    "colors = ['#add8e6', '#90ee90', '#ffa07a', '#dda0dd']\n",
    "\n",
    "# Create a bar plot with the professional color scheme\n",
    "plt.figure(figsize=(12, 6))\n",
    "ax = df_f1_scores.plot(kind='bar', width=0.6, color=colors)\n",
    "ax.set_xlabel('Architectures')\n",
    "ax.set_ylabel('F1 Score')\n",
    "#ax.set_title('Class-wise F1 Scores of Different Models')\n",
    "plt.xticks(rotation=0, ha='center')\n",
    "plt.legend(title='Classes', bbox_to_anchor=(1.0, 1.0))\n",
    "\n",
    "# Adding data labels to the bars\n",
    "for p in ax.patches:\n",
    "    ax.annotate(f'{p.get_height():.2f}', (p.get_x() + p.get_width() / 2., p.get_height()),\n",
    "                ha='center', va='center', fontsize=11, color='black', xytext=(0, 5),\n",
    "                textcoords='offset points')\n",
    "\n",
    "plt.tight_layout()\n",
    "plt.show()"
   ]
  },
  {
   "cell_type": "code",
   "execution_count": 24,
   "id": "2d985d4c",
   "metadata": {},
   "outputs": [
    {
     "data": {
      "text/plain": [
       "<Figure size 864x720 with 0 Axes>"
      ]
     },
     "metadata": {},
     "output_type": "display_data"
    },
    {
     "data": {
      "image/png": "[encoded data removed]",
      "text/plain": [
       "<Figure size 432x288 with 1 Axes>"
      ]
     },
     "metadata": {
      "needs_background": "light"
     },
     "output_type": "display_data"
    }
   ],
   "source": [
    "import matplotlib.pyplot as plt\n",
    "import seaborn as sns\n",
    "import pandas as pd\n",
    "import numpy as np\n",
    "\n",
    "# Dummy data for F1 scores for each model and class\n",
    "models = ['VGG16', 'Resnet50', 'InceptionV3', 'Mobinet']\n",
    "# Sample data of f1_scores_dict\n",
    "f1_scores_dict = {\n",
    " 'VGG16': f1_per_class_vgg16,\n",
    " 'Resnet50': f1_per_class_resnet50,\n",
    " 'InceptionV3': f1_per_class_inceptionv3,\n",
    " 'Mobinet': f1_per_class_mobilenet\n",
    "}\n",
    "\n",
    "# Convert f1_scores_dict into a DataFrame\n",
    "df_f1_scores = pd.DataFrame(f1_scores_dict)\n",
    "\n",
    "# Set the class names as the index for better visualization\n",
    "df_f1_scores.index.name = 'Classes'\n",
    "\n",
    "# Transpose the DataFrame for easier plotting\n",
    "df_f1_scores = df_f1_scores.T\n",
    "\n",
    "\n",
    "colors = ['#add8e6', '#90ee90', '#ffa07a', '#dda0dd']\n",
    "\n",
    "# Create a bar plot with the professional color scheme\n",
    "plt.figure(figsize=(12, 10))\n",
    "ax = df_f1_scores.plot(kind='bar', width=0.6, color=colors)\n",
    "ax.set_xlabel('Architectures')\n",
    "ax.set_ylabel('F1 Score')\n",
    "plt.xticks(rotation=0, ha='center')\n",
    "\n",
    "# Adding data labels to the bars\n",
    "for p in ax.patches:\n",
    "    ax.annotate(f'{p.get_height():.2f}', (p.get_x() + p.get_width() / 2., p.get_height()),\n",
    "                ha='center', va='center', fontsize=11, color='black', xytext=(0, 5),\n",
    "                textcoords='offset points')\n",
    "\n",
    "# Place the legend inside the plot at the top right side\n",
    "plt.legend(title='Classes', loc='upper right', ncol=1)\n",
    "\n",
    "plt.tight_layout()\n",
    "plt.show()"
   ]
  },
  {
   "cell_type": "code",
   "execution_count": 27,
   "id": "74b7cd58",
   "metadata": {},
   "outputs": [
    {
     "data": {
      "text/plain": [
       "<Figure size 864x1440 with 0 Axes>"
      ]
     },
     "metadata": {},
     "output_type": "display_data"
    },
    {
     "data": {
      "image/png": "[encoded data removed]",
      "text/plain": [
       "<Figure size 432x288 with 1 Axes>"
      ]
     },
     "metadata": {
      "needs_background": "light"
     },
     "output_type": "display_data"
    }
   ],
   "source": [
    "import matplotlib.pyplot as plt\n",
    "import seaborn as sns\n",
    "import pandas as pd\n",
    "import numpy as np\n",
    "\n",
    "# Dummy data for F1 scores for each model and class\n",
    "models = ['VGG16', 'Resnet50', 'InceptionV3', 'Mobinet']\n",
    "# Sample data of f1_scores_dict\n",
    "f1_scores_dict = {\n",
    " 'VGG16': f1_per_class_vgg16,\n",
    " 'Resnet50': f1_per_class_resnet50,\n",
    " 'InceptionV3': f1_per_class_inceptionv3,\n",
    " 'Mobinet': f1_per_class_mobilenet\n",
    "}\n",
    "\n",
    "# Convert f1_scores_dict into a DataFrame\n",
    "df_f1_scores = pd.DataFrame(f1_scores_dict)\n",
    "\n",
    "# Set the class names as the index for better visualization\n",
    "df_f1_scores.index.name = 'Classes'\n",
    "\n",
    "# Transpose the DataFrame for easier plotting\n",
    "df_f1_scores = df_f1_scores.T\n",
    "\n",
    "\n",
    "colors = ['#add8e6', '#90ee90', '#ffa07a', '#dda0dd']\n",
    "\n",
    "\n",
    "# Create a bar plot with the professional color scheme\n",
    "plt.figure(figsize=(12, 20))\n",
    "ax = df_f1_scores.plot(kind='bar', width=0.8, color=colors)\n",
    "ax.set_xlabel('Architectures')\n",
    "ax.set_ylabel('F1-Score')\n",
    "plt.xticks(rotation=0, ha='center')\n",
    "\n",
    "# Adding data labels to the bars\n",
    "for p in ax.patches:\n",
    "    ax.annotate(f'{p.get_height():.2f}', (p.get_x() + p.get_width() / 2., p.get_height()),\n",
    "                ha='center', va='center', fontsize=11, color='black', xytext=(0, 5),\n",
    "                textcoords='offset points')\n",
    "\n",
    "# Place the legend inside the plot at the upper right corner\n",
    "ax.legend(title='Classes', loc='upper right')\n",
    "\n",
    "# Set the range for the y-axis\n",
    "plt.ylim(0, 1.4)\n",
    "\n",
    "plt.tight_layout()\n",
    "plt.show()"
   ]
  },
  {
   "cell_type": "code",
   "execution_count": null,
   "id": "e0baf0da",
   "metadata": {},
   "outputs": [],
   "source": []
  }
 ],
 "metadata": {
  "kernelspec": {
   "display_name": "Python 3 (ipykernel)",
   "language": "python",
   "name": "python3"
  },
  "language_info": {
   "codemirror_mode": {
    "name": "ipython",
    "version": 3
   },
   "file_extension": ".py",
   "mimetype": "text/x-python",
   "name": "python",
   "nbconvert_exporter": "python",
   "pygments_lexer": "ipython3",
   "version": "3.9.7"
  }
 },
 "nbformat": 4,
 "nbformat_minor": 5
}
